{
  "nbformat": 4,
  "nbformat_minor": 0,
  "metadata": {
    "colab": {
      "name": "in_yi_hwal.ipynb",
      "provenance": [],
      "collapsed_sections": []
    },
    "kernelspec": {
      "name": "python3",
      "display_name": "Python 3"
    },
    "accelerator": "GPU",
    "widgets": {
      "application/vnd.jupyter.widget-state+json": {
        "c528f01a7705497d95034ea7906ccc00": {
          "model_module": "@jupyter-widgets/controls",
          "model_name": "HBoxModel",
          "model_module_version": "1.5.0",
          "state": {
            "_dom_classes": [],
            "_model_module": "@jupyter-widgets/controls",
            "_model_module_version": "1.5.0",
            "_model_name": "HBoxModel",
            "_view_count": null,
            "_view_module": "@jupyter-widgets/controls",
            "_view_module_version": "1.5.0",
            "_view_name": "HBoxView",
            "box_style": "",
            "children": [
              "IPY_MODEL_fc2f9cb747f14b14a60d8ba266980c6e",
              "IPY_MODEL_0abc2ca273fd45b58d505ec7e6a6db2d",
              "IPY_MODEL_375b8669fe8c4780b14873d6c88b5804"
            ],
            "layout": "IPY_MODEL_f434f564858745f189ad7f9649ade615"
          }
        },
        "fc2f9cb747f14b14a60d8ba266980c6e": {
          "model_module": "@jupyter-widgets/controls",
          "model_name": "HTMLModel",
          "model_module_version": "1.5.0",
          "state": {
            "_dom_classes": [],
            "_model_module": "@jupyter-widgets/controls",
            "_model_module_version": "1.5.0",
            "_model_name": "HTMLModel",
            "_view_count": null,
            "_view_module": "@jupyter-widgets/controls",
            "_view_module_version": "1.5.0",
            "_view_name": "HTMLView",
            "description": "",
            "description_tooltip": null,
            "layout": "IPY_MODEL_26f2600303744edaa8083b7d06615e88",
            "placeholder": "​",
            "style": "IPY_MODEL_ab5780d07302422b8867dcb46da6e716",
            "value": ""
          }
        },
        "0abc2ca273fd45b58d505ec7e6a6db2d": {
          "model_module": "@jupyter-widgets/controls",
          "model_name": "FloatProgressModel",
          "model_module_version": "1.5.0",
          "state": {
            "_dom_classes": [],
            "_model_module": "@jupyter-widgets/controls",
            "_model_module_version": "1.5.0",
            "_model_name": "FloatProgressModel",
            "_view_count": null,
            "_view_module": "@jupyter-widgets/controls",
            "_view_module_version": "1.5.0",
            "_view_name": "ProgressView",
            "bar_style": "success",
            "description": "",
            "description_tooltip": null,
            "layout": "IPY_MODEL_2409678fb93245c7bb9b07e53e89b1e0",
            "max": 170498071,
            "min": 0,
            "orientation": "horizontal",
            "style": "IPY_MODEL_9bafb94ce7724939b7e9dc69edc9efc8",
            "value": 170498071
          }
        },
        "375b8669fe8c4780b14873d6c88b5804": {
          "model_module": "@jupyter-widgets/controls",
          "model_name": "HTMLModel",
          "model_module_version": "1.5.0",
          "state": {
            "_dom_classes": [],
            "_model_module": "@jupyter-widgets/controls",
            "_model_module_version": "1.5.0",
            "_model_name": "HTMLModel",
            "_view_count": null,
            "_view_module": "@jupyter-widgets/controls",
            "_view_module_version": "1.5.0",
            "_view_name": "HTMLView",
            "description": "",
            "description_tooltip": null,
            "layout": "IPY_MODEL_b32f7bf7c1074f18a075c06f9dd38365",
            "placeholder": "​",
            "style": "IPY_MODEL_bcdf2a8a0595448abc8cd8475cc32f78",
            "value": " 170499072/? [00:03&lt;00:00, 47214522.37it/s]"
          }
        },
        "f434f564858745f189ad7f9649ade615": {
          "model_module": "@jupyter-widgets/base",
          "model_name": "LayoutModel",
          "model_module_version": "1.2.0",
          "state": {
            "_model_module": "@jupyter-widgets/base",
            "_model_module_version": "1.2.0",
            "_model_name": "LayoutModel",
            "_view_count": null,
            "_view_module": "@jupyter-widgets/base",
            "_view_module_version": "1.2.0",
            "_view_name": "LayoutView",
            "align_content": null,
            "align_items": null,
            "align_self": null,
            "border": null,
            "bottom": null,
            "display": null,
            "flex": null,
            "flex_flow": null,
            "grid_area": null,
            "grid_auto_columns": null,
            "grid_auto_flow": null,
            "grid_auto_rows": null,
            "grid_column": null,
            "grid_gap": null,
            "grid_row": null,
            "grid_template_areas": null,
            "grid_template_columns": null,
            "grid_template_rows": null,
            "height": null,
            "justify_content": null,
            "justify_items": null,
            "left": null,
            "margin": null,
            "max_height": null,
            "max_width": null,
            "min_height": null,
            "min_width": null,
            "object_fit": null,
            "object_position": null,
            "order": null,
            "overflow": null,
            "overflow_x": null,
            "overflow_y": null,
            "padding": null,
            "right": null,
            "top": null,
            "visibility": null,
            "width": null
          }
        },
        "26f2600303744edaa8083b7d06615e88": {
          "model_module": "@jupyter-widgets/base",
          "model_name": "LayoutModel",
          "model_module_version": "1.2.0",
          "state": {
            "_model_module": "@jupyter-widgets/base",
            "_model_module_version": "1.2.0",
            "_model_name": "LayoutModel",
            "_view_count": null,
            "_view_module": "@jupyter-widgets/base",
            "_view_module_version": "1.2.0",
            "_view_name": "LayoutView",
            "align_content": null,
            "align_items": null,
            "align_self": null,
            "border": null,
            "bottom": null,
            "display": null,
            "flex": null,
            "flex_flow": null,
            "grid_area": null,
            "grid_auto_columns": null,
            "grid_auto_flow": null,
            "grid_auto_rows": null,
            "grid_column": null,
            "grid_gap": null,
            "grid_row": null,
            "grid_template_areas": null,
            "grid_template_columns": null,
            "grid_template_rows": null,
            "height": null,
            "justify_content": null,
            "justify_items": null,
            "left": null,
            "margin": null,
            "max_height": null,
            "max_width": null,
            "min_height": null,
            "min_width": null,
            "object_fit": null,
            "object_position": null,
            "order": null,
            "overflow": null,
            "overflow_x": null,
            "overflow_y": null,
            "padding": null,
            "right": null,
            "top": null,
            "visibility": null,
            "width": null
          }
        },
        "ab5780d07302422b8867dcb46da6e716": {
          "model_module": "@jupyter-widgets/controls",
          "model_name": "DescriptionStyleModel",
          "model_module_version": "1.5.0",
          "state": {
            "_model_module": "@jupyter-widgets/controls",
            "_model_module_version": "1.5.0",
            "_model_name": "DescriptionStyleModel",
            "_view_count": null,
            "_view_module": "@jupyter-widgets/base",
            "_view_module_version": "1.2.0",
            "_view_name": "StyleView",
            "description_width": ""
          }
        },
        "2409678fb93245c7bb9b07e53e89b1e0": {
          "model_module": "@jupyter-widgets/base",
          "model_name": "LayoutModel",
          "model_module_version": "1.2.0",
          "state": {
            "_model_module": "@jupyter-widgets/base",
            "_model_module_version": "1.2.0",
            "_model_name": "LayoutModel",
            "_view_count": null,
            "_view_module": "@jupyter-widgets/base",
            "_view_module_version": "1.2.0",
            "_view_name": "LayoutView",
            "align_content": null,
            "align_items": null,
            "align_self": null,
            "border": null,
            "bottom": null,
            "display": null,
            "flex": null,
            "flex_flow": null,
            "grid_area": null,
            "grid_auto_columns": null,
            "grid_auto_flow": null,
            "grid_auto_rows": null,
            "grid_column": null,
            "grid_gap": null,
            "grid_row": null,
            "grid_template_areas": null,
            "grid_template_columns": null,
            "grid_template_rows": null,
            "height": null,
            "justify_content": null,
            "justify_items": null,
            "left": null,
            "margin": null,
            "max_height": null,
            "max_width": null,
            "min_height": null,
            "min_width": null,
            "object_fit": null,
            "object_position": null,
            "order": null,
            "overflow": null,
            "overflow_x": null,
            "overflow_y": null,
            "padding": null,
            "right": null,
            "top": null,
            "visibility": null,
            "width": null
          }
        },
        "9bafb94ce7724939b7e9dc69edc9efc8": {
          "model_module": "@jupyter-widgets/controls",
          "model_name": "ProgressStyleModel",
          "model_module_version": "1.5.0",
          "state": {
            "_model_module": "@jupyter-widgets/controls",
            "_model_module_version": "1.5.0",
            "_model_name": "ProgressStyleModel",
            "_view_count": null,
            "_view_module": "@jupyter-widgets/base",
            "_view_module_version": "1.2.0",
            "_view_name": "StyleView",
            "bar_color": null,
            "description_width": ""
          }
        },
        "b32f7bf7c1074f18a075c06f9dd38365": {
          "model_module": "@jupyter-widgets/base",
          "model_name": "LayoutModel",
          "model_module_version": "1.2.0",
          "state": {
            "_model_module": "@jupyter-widgets/base",
            "_model_module_version": "1.2.0",
            "_model_name": "LayoutModel",
            "_view_count": null,
            "_view_module": "@jupyter-widgets/base",
            "_view_module_version": "1.2.0",
            "_view_name": "LayoutView",
            "align_content": null,
            "align_items": null,
            "align_self": null,
            "border": null,
            "bottom": null,
            "display": null,
            "flex": null,
            "flex_flow": null,
            "grid_area": null,
            "grid_auto_columns": null,
            "grid_auto_flow": null,
            "grid_auto_rows": null,
            "grid_column": null,
            "grid_gap": null,
            "grid_row": null,
            "grid_template_areas": null,
            "grid_template_columns": null,
            "grid_template_rows": null,
            "height": null,
            "justify_content": null,
            "justify_items": null,
            "left": null,
            "margin": null,
            "max_height": null,
            "max_width": null,
            "min_height": null,
            "min_width": null,
            "object_fit": null,
            "object_position": null,
            "order": null,
            "overflow": null,
            "overflow_x": null,
            "overflow_y": null,
            "padding": null,
            "right": null,
            "top": null,
            "visibility": null,
            "width": null
          }
        },
        "bcdf2a8a0595448abc8cd8475cc32f78": {
          "model_module": "@jupyter-widgets/controls",
          "model_name": "DescriptionStyleModel",
          "model_module_version": "1.5.0",
          "state": {
            "_model_module": "@jupyter-widgets/controls",
            "_model_module_version": "1.5.0",
            "_model_name": "DescriptionStyleModel",
            "_view_count": null,
            "_view_module": "@jupyter-widgets/base",
            "_view_module_version": "1.2.0",
            "_view_name": "StyleView",
            "description_width": ""
          }
        }
      }
    }
  },
  "cells": [
    {
      "cell_type": "markdown",
      "metadata": {
        "id": "Mq3nlbXA-Mjz"
      },
      "source": [
        "# AI 07a CIFAR-10 (Kaggle)\n",
        "\n",
        "\n",
        "\n",
        "---\n",
        "\n",
        "\n",
        "## YCS1003 CIFAR-10 Competition 2022-1\n",
        "\n",
        "CIFAR-10은 32x32픽셀의 컬러이미지(RGB) 60000개로 이루어져 있으며\n",
        "\n",
        "( training set - 50000, test set - 10000 )\n",
        "\n",
        "각 이미지는 10개의 클래스로 구분되어있습니다.\n",
        "\n",
        "\n",
        "주어진 SimpleCNN 모델의 구조와 하이퍼파라미터를 변경하며 성능을 향상시켜보고\n",
        "\n",
        "CIFAR-10 dataset에 대한 예측값을 생성한 후 제출하세요.\n",
        "\n",
        "- Kaggle에는 .csv 파일을 submit 하고 (ranking 생성)\n",
        "- LearnUs 과제란 에는 .ipynb 파일을 제출\n",
        "\n",
        "\n",
        "**[중요] 반드시 SimpleCNN 클래스 내부를 변경하여 사용해야 하며**\n",
        "\n",
        "**Pretrained 모델을 사용하거나 인터넷 복붙코드를 가져오지 마세요.**\n",
        "\n",
        "**본인이 구조를 변경하며 다양하게 시도한 흔적이 보이도록 주석으로 남겨주세요.**\n",
        "\n",
        "\n",
        "\n",
        "Kaggle에 .csv 파일을 제출할 때\n",
        "먼저 Team 탭에서 팀이름을 자신의 분반, 학번, 실명으로 변경 후 제출하세요. (청강생의 경우 '청강'을 추가)\n",
        "\n",
        "1. 01분반 201812345 김연세\n",
        "\n",
        "2. 02분반 201912345 이세연 (청강)\n",
        "\n",
        "\n",
        "### 점수 기준은 다음과 같습니다. (Test accuracy)\n",
        "\n",
        "- 65% 미만: 4점\n",
        "- 65% 이상: 6점\n",
        "- 73% 이상: 7점 (+1)\n",
        "- 80% 이상: 8점 (+2)\n",
        "- 87% 이상: 9점 (+3)\n",
        "- 90% 이상: 10점 (+4)\n",
        "- Pretrained 모델 등 주어진 SimpleCNN를 변경하는 방식이 아닌 경우: 2점\n",
        "- 복붙 코드 등 Cheating: -5점\n",
        "- 늦은 제출: 0점\n",
        "- Competition에 제출하지 않고 LearnUs에만 제출: 0점\n"
      ]
    },
    {
      "cell_type": "markdown",
      "metadata": {
        "id": "_L80Wp4C_Omg"
      },
      "source": [
        "### Import packages\n",
        "---"
      ]
    },
    {
      "cell_type": "markdown",
      "source": [
        "### 나의 변경일지\n",
        "\n",
        "-\n",
        "-\n",
        "-\n"
      ],
      "metadata": {
        "id": "tSNw0sOTFZ5w"
      }
    },
    {
      "cell_type": "code",
      "metadata": {
        "id": "JZxvpsbK_KPA"
      },
      "source": [
        "import numpy as np\n",
        "import matplotlib.pyplot as plt\n",
        "\n",
        "import torch\n",
        "import torch.nn as nn\n",
        "import torchvision\n",
        "import torchvision.transforms as T\n",
        "\n",
        "import pickle\n"
      ],
      "execution_count": 1,
      "outputs": []
    },
    {
      "cell_type": "code",
      "source": [
        "import argparse"
      ],
      "metadata": {
        "id": "DUKkfDLXVPzX"
      },
      "execution_count": 2,
      "outputs": []
    },
    {
      "cell_type": "code",
      "source": [
        "# if __name__ == '__main__':\n",
        "#     parser = argparse.ArgumentParser()\n",
        "#     parser.add_argument('--output-prefix')\n",
        "#     parser.add_argument('--resume-from')\n",
        "#     parser.add_argument('--input-dim', type=int)\n",
        "\n",
        "#     args = parser.parse_args()"
      ],
      "metadata": {
        "id": "3k2GsqMGVqyO"
      },
      "execution_count": 3,
      "outputs": []
    },
    {
      "cell_type": "markdown",
      "metadata": {
        "id": "xsT5BKapQ82k"
      },
      "source": [
        "### Setup a device"
      ]
    },
    {
      "cell_type": "code",
      "metadata": {
        "id": "yFAX7zz4Q7TW",
        "colab": {
          "base_uri": "https://localhost:8080/"
        },
        "outputId": "dc3e33ed-c317-4c68-84f2-4dbf318745ee"
      },
      "source": [
        "# Device configuration\n",
        "\n",
        "if torch.cuda.is_available():\n",
        "    device = torch.device('cuda')\n",
        "else:\n",
        "    device = torch.device('cpu')\n",
        "\n",
        "print('device:', device)"
      ],
      "execution_count": 4,
      "outputs": [
        {
          "output_type": "stream",
          "name": "stdout",
          "text": [
            "device: cuda\n"
          ]
        }
      ]
    },
    {
      "cell_type": "markdown",
      "metadata": {
        "id": "xig9mBcUQec8"
      },
      "source": [
        "### Progress monitor\n",
        "---"
      ]
    },
    {
      "cell_type": "code",
      "metadata": {
        "id": "IMrkSUyKQuaC"
      },
      "source": [
        "from IPython.display import HTML, display\n",
        "\n",
        "\n",
        "# Custom IPython progress bar for training\n",
        "class ProgressMonitor(object):\n",
        "    \n",
        "    tmpl = \"\"\"\n",
        "        <table style=\"width: 100%;\">\n",
        "            <tbody>\n",
        "                <tr>\n",
        "                    <td style=\"width: 30%;\">\n",
        "                     <b>Loss: {loss:0.4f}</b> &nbsp&nbsp&nbsp {value} / {length}\n",
        "                    </td>\n",
        "                    <td style=\"width: 70%;\">\n",
        "                        <progress value='{value}' max='{length}', style='width: 100%'>{value}</progress>\n",
        "                    </td>\n",
        "                </tr>\n",
        "            </tbody>\n",
        "        </table>        \n",
        "        \"\"\"\n",
        "\n",
        "    def __init__(self, length):\n",
        "        self.length = length\n",
        "        self.count = 0\n",
        "        self.display = display(self.html(0, 0), display_id=True)\n",
        "        \n",
        "    def html(self, count, loss):\n",
        "        return HTML(self.tmpl.format(length=self.length, value=count, loss=loss))\n",
        "        \n",
        "    def update(self, count, loss):\n",
        "        self.count += count\n",
        "        self.display.update(self.html(self.count, loss))"
      ],
      "execution_count": 5,
      "outputs": []
    },
    {
      "cell_type": "markdown",
      "metadata": {
        "id": "1sHv9t9eBxdo"
      },
      "source": [
        "### Load the datasets\n",
        "---"
      ]
    },
    {
      "cell_type": "code",
      "metadata": {
        "id": "vZgdPtMKB2kP",
        "colab": {
          "base_uri": "https://localhost:8080/",
          "height": 102,
          "referenced_widgets": [
            "c528f01a7705497d95034ea7906ccc00",
            "fc2f9cb747f14b14a60d8ba266980c6e",
            "0abc2ca273fd45b58d505ec7e6a6db2d",
            "375b8669fe8c4780b14873d6c88b5804",
            "f434f564858745f189ad7f9649ade615",
            "26f2600303744edaa8083b7d06615e88",
            "ab5780d07302422b8867dcb46da6e716",
            "2409678fb93245c7bb9b07e53e89b1e0",
            "9bafb94ce7724939b7e9dc69edc9efc8",
            "b32f7bf7c1074f18a075c06f9dd38365",
            "bcdf2a8a0595448abc8cd8475cc32f78"
          ]
        },
        "outputId": "3101b782-e82b-455b-a5c8-b7e1d5aa1ef4"
      },
      "source": [
        "classes = ('plane', 'car', 'bird', 'cat', 'deer', 'dog', 'frog', 'horse', 'ship', 'truck')\n",
        "\n",
        "# data augmentation\n",
        "transform_test = T.Compose( [T.ToTensor(), \n",
        "                             T.Normalize((0.5, 0.5, 0.5), (0.5, 0.5, 0.5))] )\n",
        "\n",
        "transform_train = T.Compose([\n",
        "                            T.RandomAffine(30),\n",
        "                            T.ColorJitter(),\n",
        "                            T.RandomHorizontalFlip(),\n",
        "                            T.ToTensor(),\n",
        "                            T.Normalize((0.5, 0.5, 0.5), (0.5, 0.5, 0.5))])\n",
        "\n",
        "\n",
        "train_set = torchvision.datasets.CIFAR10('./data', train=True, download=True, transform=transform_train )\n",
        "test_set = torchvision.datasets.CIFAR10('./data', train=False, download=True, transform=transform_test )\n",
        "\n"
      ],
      "execution_count": 6,
      "outputs": [
        {
          "output_type": "stream",
          "name": "stdout",
          "text": [
            "Downloading https://www.cs.toronto.edu/~kriz/cifar-10-python.tar.gz to ./data/cifar-10-python.tar.gz\n"
          ]
        },
        {
          "output_type": "display_data",
          "data": {
            "text/plain": [
              "  0%|          | 0/170498071 [00:00<?, ?it/s]"
            ],
            "application/vnd.jupyter.widget-view+json": {
              "version_major": 2,
              "version_minor": 0,
              "model_id": "c528f01a7705497d95034ea7906ccc00"
            }
          },
          "metadata": {}
        },
        {
          "output_type": "stream",
          "name": "stdout",
          "text": [
            "Extracting ./data/cifar-10-python.tar.gz to ./data\n",
            "Files already downloaded and verified\n"
          ]
        }
      ]
    },
    {
      "cell_type": "code",
      "metadata": {
        "id": "7YmtRUX2Chc-",
        "colab": {
          "base_uri": "https://localhost:8080/"
        },
        "outputId": "b6f9a947-83ad-480a-d966-1a615a5600d1"
      },
      "source": [
        "print(train_set.data.shape)\n",
        "print(test_set.data.shape)"
      ],
      "execution_count": 7,
      "outputs": [
        {
          "output_type": "stream",
          "name": "stdout",
          "text": [
            "(50000, 32, 32, 3)\n",
            "(10000, 32, 32, 3)\n"
          ]
        }
      ]
    },
    {
      "cell_type": "markdown",
      "metadata": {
        "id": "kCfqFuEOsk_C"
      },
      "source": [
        "### Preview the data \n",
        "---"
      ]
    },
    {
      "cell_type": "code",
      "metadata": {
        "id": "zGc-5cV9s0V0",
        "colab": {
          "base_uri": "https://localhost:8080/",
          "height": 146
        },
        "outputId": "4e6e9505-e676-4b7e-b8a3-e10b2056de05"
      },
      "source": [
        "import matplotlib.pyplot as plt\n",
        "import numpy as np\n",
        "\n",
        "def convert_to_imshow_format(image):\n",
        "    # first convert back to [0,1] range from [-1,1] range\n",
        "    image = image / 2 + 0.5\n",
        "    image = image.numpy()\n",
        "    # convert from CHW to HWC\n",
        "    # from 3x32x32 to 32x32x3\n",
        "    return image.transpose(1,2,0)\n",
        "\n",
        "temp_loader = torch.utils.data.DataLoader(train_set, batch_size=30, shuffle=True)\n",
        "\n",
        "dataiter = iter(temp_loader)\n",
        "images, labels = dataiter.next()\n",
        "\n",
        "images = images[:6]\n",
        "labels = labels[:6]\n",
        "\n",
        "fig, axes = plt.subplots(1, len(images), figsize=(12,2.5))\n",
        "for idx, image in enumerate(images):\n",
        "    axes[idx].imshow(convert_to_imshow_format(image))\n",
        "    axes[idx].set_title(classes[labels[idx]])\n",
        "    axes[idx].set_xticks([])\n",
        "    axes[idx].set_yticks([])"
      ],
      "execution_count": 8,
      "outputs": [
        {
          "output_type": "display_data",
          "data": {
            "text/plain": [
              "<Figure size 864x180 with 6 Axes>"
            ],
            "image/png": "[encoded data removed]"
          },
          "metadata": {}
        }
      ]
    },
    {
      "cell_type": "markdown",
      "metadata": {
        "id": "OvolK6DdAOTJ"
      },
      "source": [
        "### Specify a model architecture\n",
        "---\n"
      ]
    },
    {
      "cell_type": "code",
      "metadata": {
        "id": "TycRw1LTtnsj"
      },
      "source": [
        "# [ conv_layers 변경 예 1 ]\n",
        "\n",
        "# self.conv_layers = nn.Sequential(\n",
        "    \n",
        "#     nn.Conv2d( in_channels=3, out_channels=32, kernel_size=3, padding=1 ), \n",
        "#     nn.BatchNorm2d(32),\n",
        "#     nn.ReLU(),\n",
        "#     nn.MaxPool2d(2), # 32, 32x32 -> 32, 16x16\n",
        "\n",
        "#     nn.Conv2d( in_channels=32, out_channels=64, kernel_size=3, padding=1 ), # 32, 16x16 -> 64, 16x16\n",
        "#     nn.BatchNorm2d(64),\n",
        "#     nn.ReLU(),\n",
        "#     nn.MaxPool2d(2), # 64, 16x16 -> 64, 8x8\n",
        "\n",
        "# }\n"
      ],
      "execution_count": 9,
      "outputs": []
    },
    {
      "cell_type": "code",
      "metadata": {
        "id": "0LjBgQWTAQBi"
      },
      "source": [
        "\n",
        "# SimpleCNN의 구조를 변경\n",
        "\n",
        "\n",
        "class SimpleCNN(nn.Module) :\n",
        "\n",
        "\tdef __init__(self) :\n",
        "\t\tsuper().__init__()\n",
        "\n",
        "\t\t# W, H = (N - F + 2P) / stride + 1\n",
        "\t\t# initial image size = 32 * 32\n",
        "\n",
        "\t\tself.conv_layers = nn.Sequential(\n",
        "\n",
        "\t\t\t# 3 32 32\n",
        "\t\t\tnn.Conv2d(3, 32, 3, 1, padding=1), nn.BatchNorm2d(32), nn.ReLU(),\n",
        "\t\t\tnn.Dropout2d(0.3),\n",
        "\t\t\tnn.Conv2d(32, 32, 3, 1, padding=1), nn.BatchNorm2d(32), nn.ReLU(),\n",
        "\n",
        "\t\t\tnn.Conv2d(32, 64, 3, 1, padding=1), nn.BatchNorm2d(64), nn.ReLU(),\n",
        "\t\t\tnn.Dropout2d(0.4),\n",
        "\t\t\tnn.Conv2d(64, 64, 3, 1, padding=1), nn.BatchNorm2d(64), nn.ReLU(),\n",
        "\t\t\tnn.MaxPool2d(2, 2),\n",
        "\n",
        "\t\t\t# 64 16 16\n",
        "\t\t\tnn.Conv2d(64, 128, 3, 1, padding=1), nn.BatchNorm2d(128), nn.ReLU(),\n",
        "\t\t\tnn.Dropout2d(0.5),\n",
        "\t\t\tnn.Conv2d(128, 128, 3, 1, padding=1), nn.BatchNorm2d(128), nn.ReLU(),\n",
        "\t\t\tnn.MaxPool2d(2, 2),\n",
        "\n",
        "\t\t\t# 128 8 8\n",
        "\t\t\tnn.Conv2d(128, 256, 3, 1,padding = 1), nn.BatchNorm2d(256), nn.ReLU(),\n",
        "\t\t\tnn.Dropout2d(0.6),\n",
        "\t\t\tnn.Conv2d(256, 256, 3, 1,padding = 1), nn.BatchNorm2d(256), nn.ReLU(),\n",
        "\t\t\tnn.MaxPool2d(2, 2),\n",
        "\n",
        "\t\t\t#256 4 4\n",
        "\t\t\tnn.Conv2d(256, 512, 3, 1,padding = 1), nn.BatchNorm2d(512), nn.ReLU(),\n",
        "\t\t\tnn.Dropout2d(0.7),\n",
        "\t\t\tnn.Conv2d(512, 512, 3, 1,padding = 1), nn.BatchNorm2d(512), nn.ReLU(),\n",
        "\t\t\tnn.MaxPool2d(2, 2),\n",
        "\n",
        "\n",
        "\t\t)\n",
        "  \n",
        "\t\tself.fc = nn.Sequential(\n",
        "\t\t\t\n",
        "\t\t\tnn.ReLU(),\n",
        "\t\t\tnn.Linear(512*2*2, 10, bias=True),\n",
        " \n",
        "\t\t)\n",
        "\n",
        "\t\t# self.initialize_weights()\n",
        "\n",
        "\tdef forward(self, x) :\n",
        "\t\tfeatures = self.conv_layers(x)\n",
        "\t\tflatten = torch.flatten(features, 1)  # flatten\n",
        "\t\tx = self.fc(flatten)\n",
        "\t\treturn x\n"
      ],
      "execution_count": 10,
      "outputs": []
    },
    {
      "cell_type": "code",
      "metadata": {
        "colab": {
          "base_uri": "https://localhost:8080/"
        },
        "id": "-lKWDBrDqNNH",
        "outputId": "23d6e4e8-02a0-4be0-a206-7ccf896cb0fd"
      },
      "source": [
        "# Model test\n",
        "\n",
        "# 배치사이즈 7\n",
        "# RGB 3채널\n",
        "# 이미지 사이즈 32x32\n",
        "# 랜덤값의 입력 데이터를 모델에 통과시켜 결과 모양을 확인\n",
        "\n",
        "temp = SimpleCNN()\n",
        "output = torch.randn( 7, 3, 32, 32 )\n",
        "# print( temp(output).size() )\n",
        "\n",
        "print( temp.conv_layers(output).size() )"
      ],
      "execution_count": 11,
      "outputs": [
        {
          "output_type": "stream",
          "name": "stdout",
          "text": [
            "torch.Size([7, 512, 2, 2])\n"
          ]
        }
      ]
    },
    {
      "cell_type": "markdown",
      "metadata": {
        "id": "U64W-Kim_QuZ"
      },
      "source": [
        "### Hyperparameters\n",
        "---\n"
      ]
    },
    {
      "cell_type": "code",
      "metadata": {
        "id": "FtKz3gmF_NTT"
      },
      "source": [
        "batch_size = 512\n",
        "learning_rate = 0.008\n",
        "num_epochs = 1000"
      ],
      "execution_count": 12,
      "outputs": []
    },
    {
      "cell_type": "markdown",
      "metadata": {
        "id": "LMj08zU5Cj9p"
      },
      "source": [
        "### Setup the data loaders\n",
        "---\n"
      ]
    },
    {
      "cell_type": "code",
      "metadata": {
        "id": "XqBcfSB9QQbW"
      },
      "source": [
        "train_loader = torch.utils.data.DataLoader(train_set, batch_size=batch_size, shuffle=True)\n",
        "test_loader = torch.utils.data.DataLoader(test_set, batch_size=batch_size, shuffle=False)"
      ],
      "execution_count": 13,
      "outputs": []
    },
    {
      "cell_type": "markdown",
      "metadata": {
        "id": "2qowiiqIQvxl"
      },
      "source": [
        "### Instantiate the model\n",
        "---"
      ]
    },
    {
      "cell_type": "code",
      "metadata": {
        "id": "z2Fe9zzeQzRB",
        "colab": {
          "base_uri": "https://localhost:8080/"
        },
        "outputId": "029261b0-4ad3-4868-a78c-7a3c0695354e"
      },
      "source": [
        "model = SimpleCNN()\n",
        "\n",
        "model.to(device)\n"
      ],
      "execution_count": 14,
      "outputs": [
        {
          "output_type": "execute_result",
          "data": {
            "text/plain": [
              "SimpleCNN(\n",
              "  (conv_layers): Sequential(\n",
              "    (0): Conv2d(3, 32, kernel_size=(3, 3), stride=(1, 1), padding=(1, 1))\n",
              "    (1): BatchNorm2d(32, eps=1e-05, momentum=0.1, affine=True, track_running_stats=True)\n",
              "    (2): ReLU()\n",
              "    (3): Dropout2d(p=0.3, inplace=False)\n",
              "    (4): Conv2d(32, 32, kernel_size=(3, 3), stride=(1, 1), padding=(1, 1))\n",
              "    (5): BatchNorm2d(32, eps=1e-05, momentum=0.1, affine=True, track_running_stats=True)\n",
              "    (6): ReLU()\n",
              "    (7): Conv2d(32, 64, kernel_size=(3, 3), stride=(1, 1), padding=(1, 1))\n",
              "    (8): BatchNorm2d(64, eps=1e-05, momentum=0.1, affine=True, track_running_stats=True)\n",
              "    (9): ReLU()\n",
              "    (10): Dropout2d(p=0.4, inplace=False)\n",
              "    (11): Conv2d(64, 64, kernel_size=(3, 3), stride=(1, 1), padding=(1, 1))\n",
              "    (12): BatchNorm2d(64, eps=1e-05, momentum=0.1, affine=True, track_running_stats=True)\n",
              "    (13): ReLU()\n",
              "    (14): MaxPool2d(kernel_size=2, stride=2, padding=0, dilation=1, ceil_mode=False)\n",
              "    (15): Conv2d(64, 128, kernel_size=(3, 3), stride=(1, 1), padding=(1, 1))\n",
              "    (16): BatchNorm2d(128, eps=1e-05, momentum=0.1, affine=True, track_running_stats=True)\n",
              "    (17): ReLU()\n",
              "    (18): Dropout2d(p=0.5, inplace=False)\n",
              "    (19): Conv2d(128, 128, kernel_size=(3, 3), stride=(1, 1), padding=(1, 1))\n",
              "    (20): BatchNorm2d(128, eps=1e-05, momentum=0.1, affine=True, track_running_stats=True)\n",
              "    (21): ReLU()\n",
              "    (22): MaxPool2d(kernel_size=2, stride=2, padding=0, dilation=1, ceil_mode=False)\n",
              "    (23): Conv2d(128, 256, kernel_size=(3, 3), stride=(1, 1), padding=(1, 1))\n",
              "    (24): BatchNorm2d(256, eps=1e-05, momentum=0.1, affine=True, track_running_stats=True)\n",
              "    (25): ReLU()\n",
              "    (26): Dropout2d(p=0.6, inplace=False)\n",
              "    (27): Conv2d(256, 256, kernel_size=(3, 3), stride=(1, 1), padding=(1, 1))\n",
              "    (28): BatchNorm2d(256, eps=1e-05, momentum=0.1, affine=True, track_running_stats=True)\n",
              "    (29): ReLU()\n",
              "    (30): MaxPool2d(kernel_size=2, stride=2, padding=0, dilation=1, ceil_mode=False)\n",
              "    (31): Conv2d(256, 512, kernel_size=(3, 3), stride=(1, 1), padding=(1, 1))\n",
              "    (32): BatchNorm2d(512, eps=1e-05, momentum=0.1, affine=True, track_running_stats=True)\n",
              "    (33): ReLU()\n",
              "    (34): Dropout2d(p=0.7, inplace=False)\n",
              "    (35): Conv2d(512, 512, kernel_size=(3, 3), stride=(1, 1), padding=(1, 1))\n",
              "    (36): BatchNorm2d(512, eps=1e-05, momentum=0.1, affine=True, track_running_stats=True)\n",
              "    (37): ReLU()\n",
              "    (38): MaxPool2d(kernel_size=2, stride=2, padding=0, dilation=1, ceil_mode=False)\n",
              "  )\n",
              "  (fc): Sequential(\n",
              "    (0): ReLU()\n",
              "    (1): Linear(in_features=2048, out_features=10, bias=True)\n",
              "  )\n",
              ")"
            ]
          },
          "metadata": {},
          "execution_count": 14
        }
      ]
    },
    {
      "cell_type": "markdown",
      "metadata": {
        "id": "fTgOBgWQQ3Nc"
      },
      "source": [
        "### Train the model\n",
        "---\n"
      ]
    },
    {
      "cell_type": "code",
      "metadata": {
        "id": "JcuWxEnnRfGX"
      },
      "source": [
        "# 변경 원하는 경우 변경 가능\n",
        "\n",
        "criterion = nn.CrossEntropyLoss()\n",
        "# optimizer = torch.optim.Adam(model.parameters(), lr=learning_rate, betas=(0.9, 0.99), eps=1e-07, weight_decay=0, amsgrad=False)\n",
        "# optimizer = torch.optim.AdamW(model.parameters(), lr=learning_rate, betas=(0.9, 0.99), eps=1e-08, weight_decay=0.01, amsgrad=False, maximize=False)\n",
        "optimizer = torch.optim.RAdam(model.parameters(), lr=learning_rate, betas=(0.9, 0.999), eps=1e-08, weight_decay=0)\n",
        "# optimizer = torch.optim.SGD(model.parameters(), lr=learning_rate,\n",
        "#                       momentum=0.95, weight_decay=3e-4)\n",
        "# scheduler = torch.optim.lr_scheduler.CosineAnnealingLR(optimizer, T_max=200)\n",
        "# optimizer = torch.optim.SGD(model.parameters(), lr=0.001,\n",
        "#                       momentum=0.9, weight_decay=5e-4)\n",
        "# scheduler = torch.optim.lr_scheduler.CosineAnnealingLR(optimizer, T_max=200)"
      ],
      "execution_count": 15,
      "outputs": []
    },
    {
      "cell_type": "code",
      "source": [
        ""
      ],
      "metadata": {
        "id": "V1_zKhfwV5PE"
      },
      "execution_count": 16,
      "outputs": []
    },
    {
      "cell_type": "code",
      "metadata": {
        "id": "SHkcPL-RRmEA"
      },
      "source": [
        "from statistics import mean \n",
        "import sys \n",
        "\n",
        "def train(optimizer, model, num_epochs=10, first_epoch=1):\n",
        "    \n",
        "    criterion = nn.CrossEntropyLoss()\n",
        "\n",
        "    train_losses = []\n",
        "    test_losses = []\n",
        "\n",
        "    for epoch in range(first_epoch, first_epoch + num_epochs):\n",
        "        print('Epoch', epoch)\n",
        "        \n",
        "        # train phase\n",
        "        model.train()\n",
        "        # create a progress bar\n",
        "        progress = ProgressMonitor(length=len(train_set))\n",
        "        \n",
        "        # keep track of predictions\n",
        "        correct_train = 0\n",
        "\n",
        "        batch_losses = []\n",
        "\n",
        "        # scheduler.step()  # ! lr scheduler\n",
        "        \n",
        "        for batch, targets in train_loader:\n",
        "            \n",
        "            # Move the training data to the GPU\n",
        "            batch = batch.to(device)\n",
        "            targets = targets.to(device)\n",
        "\n",
        "            # clear previous gradient computation\n",
        "            optimizer.zero_grad()\n",
        "\n",
        "            # forward propagation\n",
        "            outputs = model(batch)\n",
        "\n",
        "            # calculate the loss\n",
        "            loss = criterion(outputs, targets)\n",
        "\n",
        "            # backpropagate to compute gradients\n",
        "            loss.backward()\n",
        "\n",
        "            # update model weights\n",
        "            optimizer.step()\n",
        "\n",
        "            batch_losses.append(loss.item())\n",
        "\n",
        "            # accumulate correct count\n",
        "            _, preds = torch.max(outputs, 1)\n",
        "            correct_train += torch.sum(preds == targets.data)\n",
        "\n",
        "            # update progress bar\n",
        "            progress.update(batch.shape[0], mean(batch_losses) )  \n",
        "\n",
        "        # scheduler.step()\n",
        "        train_losses.append( mean(batch_losses))\n",
        "\n",
        "\n",
        "        # test phase\n",
        "        model.eval()\n",
        "\n",
        "        y_pred = []\n",
        "\n",
        "        correct_test = 0\n",
        "\n",
        "\n",
        "        # We don't need gradients for test, so wrap in \n",
        "        # no_grad to save memory\n",
        "        with torch.no_grad():\n",
        "\n",
        "            for batch, targets in test_loader:\n",
        "\n",
        "                # Move the training batch to the GPU\n",
        "                batch = batch.to(device)\n",
        "                targets = targets.to(device)\n",
        "\n",
        "                # forward propagation\n",
        "                outputs = model(batch)\n",
        "\n",
        "                # calculate the loss\n",
        "                loss = criterion(outputs, targets)\n",
        "\n",
        "                # save predictions\n",
        "                y_pred.extend( outputs.argmax(dim=1).cpu().numpy() )\n",
        "\n",
        "                # accumulate correct count\n",
        "                _, preds = torch.max(outputs, 1)\n",
        "                correct_test += torch.sum(preds == targets.data)\n",
        "                \n",
        "\n",
        "        # Calculate accuracy\n",
        "        train_acc = correct_train.item() / train_set.data.shape[0]\n",
        "        test_acc = correct_test.item() / test_set.data.shape[0]\n",
        "\n",
        "        print('Training accuracy: {:.2f}%'.format(float(train_acc) * 100))\n",
        "        print('Test accuracy: {:.2f}%\\n'.format(float(test_acc) * 100))\n",
        "        \n",
        "        # scheduler.step()\n",
        "    \n",
        "    return train_losses, test_losses, y_pred"
      ],
      "execution_count": 17,
      "outputs": []
    },
    {
      "cell_type": "markdown",
      "metadata": {
        "id": "EN9A06V8RtGi"
      },
      "source": [
        "### Checkpointing\n",
        "---"
      ]
    },
    {
      "cell_type": "markdown",
      "source": [
        ""
      ],
      "metadata": {
        "id": "E682INaGm94-"
      }
    },
    {
      "cell_type": "code",
      "metadata": {
        "id": "iPgk2q20Rq6Q",
        "colab": {
          "base_uri": "https://localhost:8080/",
          "height": 1000
        },
        "outputId": "3f71a20f-ba64-4033-dfd6-079aff567750"
      },
      "source": [
        "train_losses, test_losses, y_pred = train(optimizer, model, num_epochs=num_epochs)"
      ],
      "execution_count": 21,
      "outputs": [
        {
          "output_type": "stream",
          "name": "stdout",
          "text": [
            "Epoch 1\n"
          ]
        },
        {
          "output_type": "display_data",
          "data": {
            "text/plain": [
              "<IPython.core.display.HTML object>"
            ],
            "text/html": [
              "\n",
              "        <table style=\"width: 100%;\">\n",
              "            <tbody>\n",
              "                <tr>\n",
              "                    <td style=\"width: 30%;\">\n",
              "                     <b>Loss: 0.2956</b> &nbsp&nbsp&nbsp 50000 / 50000\n",
              "                    </td>\n",
              "                    <td style=\"width: 70%;\">\n",
              "                        <progress value='50000' max='50000', style='width: 100%'>50000</progress>\n",
              "                    </td>\n",
              "                </tr>\n",
              "            </tbody>\n",
              "        </table>        \n",
              "        "
            ]
          },
          "metadata": {}
        },
        {
          "output_type": "stream",
          "name": "stdout",
          "text": [
            "Training accuracy: 89.70%\n",
            "Test accuracy: 89.75%\n",
            "\n",
            "Epoch 2\n"
          ]
        },
        {
          "output_type": "display_data",
          "data": {
            "text/plain": [
              "<IPython.core.display.HTML object>"
            ],
            "text/html": [
              "\n",
              "        <table style=\"width: 100%;\">\n",
              "            <tbody>\n",
              "                <tr>\n",
              "                    <td style=\"width: 30%;\">\n",
              "                     <b>Loss: 0.2994</b> &nbsp&nbsp&nbsp 50000 / 50000\n",
              "                    </td>\n",
              "                    <td style=\"width: 70%;\">\n",
              "                        <progress value='50000' max='50000', style='width: 100%'>50000</progress>\n",
              "                    </td>\n",
              "                </tr>\n",
              "            </tbody>\n",
              "        </table>        \n",
              "        "
            ]
          },
          "metadata": {}
        },
        {
          "output_type": "stream",
          "name": "stdout",
          "text": [
            "Training accuracy: 89.44%\n",
            "Test accuracy: 90.06%\n",
            "\n",
            "Epoch 3\n"
          ]
        },
        {
          "output_type": "display_data",
          "data": {
            "text/plain": [
              "<IPython.core.display.HTML object>"
            ],
            "text/html": [
              "\n",
              "        <table style=\"width: 100%;\">\n",
              "            <tbody>\n",
              "                <tr>\n",
              "                    <td style=\"width: 30%;\">\n",
              "                     <b>Loss: 0.2947</b> &nbsp&nbsp&nbsp 50000 / 50000\n",
              "                    </td>\n",
              "                    <td style=\"width: 70%;\">\n",
              "                        <progress value='50000' max='50000', style='width: 100%'>50000</progress>\n",
              "                    </td>\n",
              "                </tr>\n",
              "            </tbody>\n",
              "        </table>        \n",
              "        "
            ]
          },
          "metadata": {}
        },
        {
          "output_type": "stream",
          "name": "stdout",
          "text": [
            "Training accuracy: 89.43%\n",
            "Test accuracy: 89.70%\n",
            "\n",
            "Epoch 4\n"
          ]
        },
        {
          "output_type": "display_data",
          "data": {
            "text/plain": [
              "<IPython.core.display.HTML object>"
            ],
            "text/html": [
              "\n",
              "        <table style=\"width: 100%;\">\n",
              "            <tbody>\n",
              "                <tr>\n",
              "                    <td style=\"width: 30%;\">\n",
              "                     <b>Loss: 0.2960</b> &nbsp&nbsp&nbsp 50000 / 50000\n",
              "                    </td>\n",
              "                    <td style=\"width: 70%;\">\n",
              "                        <progress value='50000' max='50000', style='width: 100%'>50000</progress>\n",
              "                    </td>\n",
              "                </tr>\n",
              "            </tbody>\n",
              "        </table>        \n",
              "        "
            ]
          },
          "metadata": {}
        },
        {
          "output_type": "stream",
          "name": "stdout",
          "text": [
            "Training accuracy: 89.49%\n",
            "Test accuracy: 89.98%\n",
            "\n",
            "Epoch 5\n"
          ]
        },
        {
          "output_type": "display_data",
          "data": {
            "text/plain": [
              "<IPython.core.display.HTML object>"
            ],
            "text/html": [
              "\n",
              "        <table style=\"width: 100%;\">\n",
              "            <tbody>\n",
              "                <tr>\n",
              "                    <td style=\"width: 30%;\">\n",
              "                     <b>Loss: 0.2962</b> &nbsp&nbsp&nbsp 50000 / 50000\n",
              "                    </td>\n",
              "                    <td style=\"width: 70%;\">\n",
              "                        <progress value='50000' max='50000', style='width: 100%'>50000</progress>\n",
              "                    </td>\n",
              "                </tr>\n",
              "            </tbody>\n",
              "        </table>        \n",
              "        "
            ]
          },
          "metadata": {}
        },
        {
          "output_type": "stream",
          "name": "stdout",
          "text": [
            "Training accuracy: 89.62%\n",
            "Test accuracy: 89.73%\n",
            "\n",
            "Epoch 6\n"
          ]
        },
        {
          "output_type": "display_data",
          "data": {
            "text/plain": [
              "<IPython.core.display.HTML object>"
            ],
            "text/html": [
              "\n",
              "        <table style=\"width: 100%;\">\n",
              "            <tbody>\n",
              "                <tr>\n",
              "                    <td style=\"width: 30%;\">\n",
              "                     <b>Loss: 0.2951</b> &nbsp&nbsp&nbsp 50000 / 50000\n",
              "                    </td>\n",
              "                    <td style=\"width: 70%;\">\n",
              "                        <progress value='50000' max='50000', style='width: 100%'>50000</progress>\n",
              "                    </td>\n",
              "                </tr>\n",
              "            </tbody>\n",
              "        </table>        \n",
              "        "
            ]
          },
          "metadata": {}
        },
        {
          "output_type": "stream",
          "name": "stdout",
          "text": [
            "Training accuracy: 89.63%\n",
            "Test accuracy: 89.95%\n",
            "\n",
            "Epoch 7\n"
          ]
        },
        {
          "output_type": "display_data",
          "data": {
            "text/plain": [
              "<IPython.core.display.HTML object>"
            ],
            "text/html": [
              "\n",
              "        <table style=\"width: 100%;\">\n",
              "            <tbody>\n",
              "                <tr>\n",
              "                    <td style=\"width: 30%;\">\n",
              "                     <b>Loss: 0.2950</b> &nbsp&nbsp&nbsp 50000 / 50000\n",
              "                    </td>\n",
              "                    <td style=\"width: 70%;\">\n",
              "                        <progress value='50000' max='50000', style='width: 100%'>50000</progress>\n",
              "                    </td>\n",
              "                </tr>\n",
              "            </tbody>\n",
              "        </table>        \n",
              "        "
            ]
          },
          "metadata": {}
        },
        {
          "output_type": "stream",
          "name": "stdout",
          "text": [
            "Training accuracy: 89.49%\n",
            "Test accuracy: 89.84%\n",
            "\n",
            "Epoch 8\n"
          ]
        },
        {
          "output_type": "display_data",
          "data": {
            "text/plain": [
              "<IPython.core.display.HTML object>"
            ],
            "text/html": [
              "\n",
              "        <table style=\"width: 100%;\">\n",
              "            <tbody>\n",
              "                <tr>\n",
              "                    <td style=\"width: 30%;\">\n",
              "                     <b>Loss: 0.2936</b> &nbsp&nbsp&nbsp 50000 / 50000\n",
              "                    </td>\n",
              "                    <td style=\"width: 70%;\">\n",
              "                        <progress value='50000' max='50000', style='width: 100%'>50000</progress>\n",
              "                    </td>\n",
              "                </tr>\n",
              "            </tbody>\n",
              "        </table>        \n",
              "        "
            ]
          },
          "metadata": {}
        },
        {
          "output_type": "stream",
          "name": "stdout",
          "text": [
            "Training accuracy: 89.54%\n",
            "Test accuracy: 89.68%\n",
            "\n",
            "Epoch 9\n"
          ]
        },
        {
          "output_type": "display_data",
          "data": {
            "text/plain": [
              "<IPython.core.display.HTML object>"
            ],
            "text/html": [
              "\n",
              "        <table style=\"width: 100%;\">\n",
              "            <tbody>\n",
              "                <tr>\n",
              "                    <td style=\"width: 30%;\">\n",
              "                     <b>Loss: 0.2933</b> &nbsp&nbsp&nbsp 50000 / 50000\n",
              "                    </td>\n",
              "                    <td style=\"width: 70%;\">\n",
              "                        <progress value='50000' max='50000', style='width: 100%'>50000</progress>\n",
              "                    </td>\n",
              "                </tr>\n",
              "            </tbody>\n",
              "        </table>        \n",
              "        "
            ]
          },
          "metadata": {}
        },
        {
          "output_type": "stream",
          "name": "stdout",
          "text": [
            "Training accuracy: 89.56%\n",
            "Test accuracy: 89.50%\n",
            "\n",
            "Epoch 10\n"
          ]
        },
        {
          "output_type": "display_data",
          "data": {
            "text/plain": [
              "<IPython.core.display.HTML object>"
            ],
            "text/html": [
              "\n",
              "        <table style=\"width: 100%;\">\n",
              "            <tbody>\n",
              "                <tr>\n",
              "                    <td style=\"width: 30%;\">\n",
              "                     <b>Loss: 0.2962</b> &nbsp&nbsp&nbsp 50000 / 50000\n",
              "                    </td>\n",
              "                    <td style=\"width: 70%;\">\n",
              "                        <progress value='50000' max='50000', style='width: 100%'>50000</progress>\n",
              "                    </td>\n",
              "                </tr>\n",
              "            </tbody>\n",
              "        </table>        \n",
              "        "
            ]
          },
          "metadata": {}
        },
        {
          "output_type": "stream",
          "name": "stdout",
          "text": [
            "Training accuracy: 89.62%\n",
            "Test accuracy: 89.73%\n",
            "\n",
            "Epoch 11\n"
          ]
        },
        {
          "output_type": "display_data",
          "data": {
            "text/plain": [
              "<IPython.core.display.HTML object>"
            ],
            "text/html": [
              "\n",
              "        <table style=\"width: 100%;\">\n",
              "            <tbody>\n",
              "                <tr>\n",
              "                    <td style=\"width: 30%;\">\n",
              "                     <b>Loss: 0.2930</b> &nbsp&nbsp&nbsp 50000 / 50000\n",
              "                    </td>\n",
              "                    <td style=\"width: 70%;\">\n",
              "                        <progress value='50000' max='50000', style='width: 100%'>50000</progress>\n",
              "                    </td>\n",
              "                </tr>\n",
              "            </tbody>\n",
              "        </table>        \n",
              "        "
            ]
          },
          "metadata": {}
        },
        {
          "output_type": "stream",
          "name": "stdout",
          "text": [
            "Training accuracy: 89.64%\n",
            "Test accuracy: 89.76%\n",
            "\n",
            "Epoch 12\n"
          ]
        },
        {
          "output_type": "display_data",
          "data": {
            "text/plain": [
              "<IPython.core.display.HTML object>"
            ],
            "text/html": [
              "\n",
              "        <table style=\"width: 100%;\">\n",
              "            <tbody>\n",
              "                <tr>\n",
              "                    <td style=\"width: 30%;\">\n",
              "                     <b>Loss: 0.2900</b> &nbsp&nbsp&nbsp 50000 / 50000\n",
              "                    </td>\n",
              "                    <td style=\"width: 70%;\">\n",
              "                        <progress value='50000' max='50000', style='width: 100%'>50000</progress>\n",
              "                    </td>\n",
              "                </tr>\n",
              "            </tbody>\n",
              "        </table>        \n",
              "        "
            ]
          },
          "metadata": {}
        },
        {
          "output_type": "stream",
          "name": "stdout",
          "text": [
            "Training accuracy: 89.74%\n",
            "Test accuracy: 89.64%\n",
            "\n",
            "Epoch 13\n"
          ]
        },
        {
          "output_type": "display_data",
          "data": {
            "text/plain": [
              "<IPython.core.display.HTML object>"
            ],
            "text/html": [
              "\n",
              "        <table style=\"width: 100%;\">\n",
              "            <tbody>\n",
              "                <tr>\n",
              "                    <td style=\"width: 30%;\">\n",
              "                     <b>Loss: 0.2881</b> &nbsp&nbsp&nbsp 50000 / 50000\n",
              "                    </td>\n",
              "                    <td style=\"width: 70%;\">\n",
              "                        <progress value='50000' max='50000', style='width: 100%'>50000</progress>\n",
              "                    </td>\n",
              "                </tr>\n",
              "            </tbody>\n",
              "        </table>        \n",
              "        "
            ]
          },
          "metadata": {}
        },
        {
          "output_type": "stream",
          "name": "stdout",
          "text": [
            "Training accuracy: 89.68%\n",
            "Test accuracy: 89.51%\n",
            "\n",
            "Epoch 14\n"
          ]
        },
        {
          "output_type": "display_data",
          "data": {
            "text/plain": [
              "<IPython.core.display.HTML object>"
            ],
            "text/html": [
              "\n",
              "        <table style=\"width: 100%;\">\n",
              "            <tbody>\n",
              "                <tr>\n",
              "                    <td style=\"width: 30%;\">\n",
              "                     <b>Loss: 0.2860</b> &nbsp&nbsp&nbsp 50000 / 50000\n",
              "                    </td>\n",
              "                    <td style=\"width: 70%;\">\n",
              "                        <progress value='50000' max='50000', style='width: 100%'>50000</progress>\n",
              "                    </td>\n",
              "                </tr>\n",
              "            </tbody>\n",
              "        </table>        \n",
              "        "
            ]
          },
          "metadata": {}
        },
        {
          "output_type": "stream",
          "name": "stdout",
          "text": [
            "Training accuracy: 89.81%\n",
            "Test accuracy: 90.02%\n",
            "\n",
            "Epoch 15\n"
          ]
        },
        {
          "output_type": "display_data",
          "data": {
            "text/plain": [
              "<IPython.core.display.HTML object>"
            ],
            "text/html": [
              "\n",
              "        <table style=\"width: 100%;\">\n",
              "            <tbody>\n",
              "                <tr>\n",
              "                    <td style=\"width: 30%;\">\n",
              "                     <b>Loss: 0.2917</b> &nbsp&nbsp&nbsp 50000 / 50000\n",
              "                    </td>\n",
              "                    <td style=\"width: 70%;\">\n",
              "                        <progress value='50000' max='50000', style='width: 100%'>50000</progress>\n",
              "                    </td>\n",
              "                </tr>\n",
              "            </tbody>\n",
              "        </table>        \n",
              "        "
            ]
          },
          "metadata": {}
        },
        {
          "output_type": "stream",
          "name": "stdout",
          "text": [
            "Training accuracy: 89.70%\n",
            "Test accuracy: 89.83%\n",
            "\n",
            "Epoch 16\n"
          ]
        },
        {
          "output_type": "display_data",
          "data": {
            "text/plain": [
              "<IPython.core.display.HTML object>"
            ],
            "text/html": [
              "\n",
              "        <table style=\"width: 100%;\">\n",
              "            <tbody>\n",
              "                <tr>\n",
              "                    <td style=\"width: 30%;\">\n",
              "                     <b>Loss: 0.2925</b> &nbsp&nbsp&nbsp 50000 / 50000\n",
              "                    </td>\n",
              "                    <td style=\"width: 70%;\">\n",
              "                        <progress value='50000' max='50000', style='width: 100%'>50000</progress>\n",
              "                    </td>\n",
              "                </tr>\n",
              "            </tbody>\n",
              "        </table>        \n",
              "        "
            ]
          },
          "metadata": {}
        },
        {
          "output_type": "stream",
          "name": "stdout",
          "text": [
            "Training accuracy: 89.86%\n",
            "Test accuracy: 89.53%\n",
            "\n",
            "Epoch 17\n"
          ]
        },
        {
          "output_type": "display_data",
          "data": {
            "text/plain": [
              "<IPython.core.display.HTML object>"
            ],
            "text/html": [
              "\n",
              "        <table style=\"width: 100%;\">\n",
              "            <tbody>\n",
              "                <tr>\n",
              "                    <td style=\"width: 30%;\">\n",
              "                     <b>Loss: 0.2935</b> &nbsp&nbsp&nbsp 50000 / 50000\n",
              "                    </td>\n",
              "                    <td style=\"width: 70%;\">\n",
              "                        <progress value='50000' max='50000', style='width: 100%'>50000</progress>\n",
              "                    </td>\n",
              "                </tr>\n",
              "            </tbody>\n",
              "        </table>        \n",
              "        "
            ]
          },
          "metadata": {}
        },
        {
          "output_type": "stream",
          "name": "stdout",
          "text": [
            "Training accuracy: 89.59%\n",
            "Test accuracy: 89.61%\n",
            "\n",
            "Epoch 18\n"
          ]
        },
        {
          "output_type": "display_data",
          "data": {
            "text/plain": [
              "<IPython.core.display.HTML object>"
            ],
            "text/html": [
              "\n",
              "        <table style=\"width: 100%;\">\n",
              "            <tbody>\n",
              "                <tr>\n",
              "                    <td style=\"width: 30%;\">\n",
              "                     <b>Loss: 0.2893</b> &nbsp&nbsp&nbsp 50000 / 50000\n",
              "                    </td>\n",
              "                    <td style=\"width: 70%;\">\n",
              "                        <progress value='50000' max='50000', style='width: 100%'>50000</progress>\n",
              "                    </td>\n",
              "                </tr>\n",
              "            </tbody>\n",
              "        </table>        \n",
              "        "
            ]
          },
          "metadata": {}
        },
        {
          "output_type": "stream",
          "name": "stdout",
          "text": [
            "Training accuracy: 89.78%\n",
            "Test accuracy: 90.01%\n",
            "\n",
            "Epoch 19\n"
          ]
        },
        {
          "output_type": "display_data",
          "data": {
            "text/plain": [
              "<IPython.core.display.HTML object>"
            ],
            "text/html": [
              "\n",
              "        <table style=\"width: 100%;\">\n",
              "            <tbody>\n",
              "                <tr>\n",
              "                    <td style=\"width: 30%;\">\n",
              "                     <b>Loss: 0.2852</b> &nbsp&nbsp&nbsp 50000 / 50000\n",
              "                    </td>\n",
              "                    <td style=\"width: 70%;\">\n",
              "                        <progress value='50000' max='50000', style='width: 100%'>50000</progress>\n",
              "                    </td>\n",
              "                </tr>\n",
              "            </tbody>\n",
              "        </table>        \n",
              "        "
            ]
          },
          "metadata": {}
        },
        {
          "output_type": "stream",
          "name": "stdout",
          "text": [
            "Training accuracy: 89.89%\n",
            "Test accuracy: 90.05%\n",
            "\n",
            "Epoch 20\n"
          ]
        },
        {
          "output_type": "display_data",
          "data": {
            "text/plain": [
              "<IPython.core.display.HTML object>"
            ],
            "text/html": [
              "\n",
              "        <table style=\"width: 100%;\">\n",
              "            <tbody>\n",
              "                <tr>\n",
              "                    <td style=\"width: 30%;\">\n",
              "                     <b>Loss: 0.2834</b> &nbsp&nbsp&nbsp 4608 / 50000\n",
              "                    </td>\n",
              "                    <td style=\"width: 70%;\">\n",
              "                        <progress value='4608' max='50000', style='width: 100%'>4608</progress>\n",
              "                    </td>\n",
              "                </tr>\n",
              "            </tbody>\n",
              "        </table>        \n",
              "        "
            ]
          },
          "metadata": {}
        },
        {
          "output_type": "error",
          "ename": "KeyboardInterrupt",
          "evalue": "ignored",
          "traceback": [
            "\u001b[0;31m---------------------------------------------------------------------------\u001b[0m",
            "\u001b[0;31mKeyboardInterrupt\u001b[0m                         Traceback (most recent call last)",
            "\u001b[0;32m<ipython-input-21-ba51c2f0c62e>\u001b[0m in \u001b[0;36m<module>\u001b[0;34m()\u001b[0m\n\u001b[0;32m----> 1\u001b[0;31m \u001b[0mtrain_losses\u001b[0m\u001b[0;34m,\u001b[0m \u001b[0mtest_losses\u001b[0m\u001b[0;34m,\u001b[0m \u001b[0my_pred\u001b[0m \u001b[0;34m=\u001b[0m \u001b[0mtrain\u001b[0m\u001b[0;34m(\u001b[0m\u001b[0moptimizer\u001b[0m\u001b[0;34m,\u001b[0m \u001b[0mmodel\u001b[0m\u001b[0;34m,\u001b[0m \u001b[0mnum_epochs\u001b[0m\u001b[0;34m=\u001b[0m\u001b[0mnum_epochs\u001b[0m\u001b[0;34m)\u001b[0m\u001b[0;34m\u001b[0m\u001b[0;34m\u001b[0m\u001b[0m\n\u001b[0m",
            "\u001b[0;32m<ipython-input-17-f012efaaa816>\u001b[0m in \u001b[0;36mtrain\u001b[0;34m(optimizer, model, num_epochs, first_epoch)\u001b[0m\n\u001b[1;32m     45\u001b[0m             \u001b[0moptimizer\u001b[0m\u001b[0;34m.\u001b[0m\u001b[0mstep\u001b[0m\u001b[0;34m(\u001b[0m\u001b[0;34m)\u001b[0m\u001b[0;34m\u001b[0m\u001b[0;34m\u001b[0m\u001b[0m\n\u001b[1;32m     46\u001b[0m \u001b[0;34m\u001b[0m\u001b[0m\n\u001b[0;32m---> 47\u001b[0;31m             \u001b[0mbatch_losses\u001b[0m\u001b[0;34m.\u001b[0m\u001b[0mappend\u001b[0m\u001b[0;34m(\u001b[0m\u001b[0mloss\u001b[0m\u001b[0;34m.\u001b[0m\u001b[0mitem\u001b[0m\u001b[0;34m(\u001b[0m\u001b[0;34m)\u001b[0m\u001b[0;34m)\u001b[0m\u001b[0;34m\u001b[0m\u001b[0;34m\u001b[0m\u001b[0m\n\u001b[0m\u001b[1;32m     48\u001b[0m \u001b[0;34m\u001b[0m\u001b[0m\n\u001b[1;32m     49\u001b[0m             \u001b[0;31m# accumulate correct count\u001b[0m\u001b[0;34m\u001b[0m\u001b[0;34m\u001b[0m\u001b[0;34m\u001b[0m\u001b[0m\n",
            "\u001b[0;31mKeyboardInterrupt\u001b[0m: "
          ]
        }
      ]
    },
    {
      "cell_type": "markdown",
      "metadata": {
        "id": "c-qm58sSRw0L"
      },
      "source": [
        "### Make a CSV for submission\n",
        "---"
      ]
    },
    {
      "cell_type": "code",
      "metadata": {
        "id": "gAUIHp7I2GHk"
      },
      "source": [
        "\n",
        "# test phase\n",
        "model.eval()\n",
        "\n",
        "# keep track of predictions\n",
        "y_pred = []\n",
        "\n",
        "# We don't need gradients for test, so wrap in \n",
        "# no_grad to save memory\n",
        "with torch.no_grad():\n",
        "\n",
        "    for batch, targets in test_loader:\n",
        "\n",
        "        # Move the training batch to the GPU\n",
        "        batch = batch.to(device)\n",
        "        targets = targets.to(device)\n",
        "\n",
        "        # forward propagation\n",
        "        predictions = model(batch)\n",
        "\n",
        "        # save predictions\n",
        "        y_pred.extend( predictions.argmax(dim=1).cpu().numpy() )\n",
        "\n"
      ],
      "execution_count": 22,
      "outputs": []
    },
    {
      "cell_type": "code",
      "metadata": {
        "id": "Oc0IclsHsANN"
      },
      "source": [
        "import csv\n",
        "\n",
        "def make_pred_csv(model):\n",
        "    with open('cifar10_submit.csv', mode='w') as pred_file:\n",
        "    \n",
        "        pred_writer = csv.writer(pred_file, delimiter=',')\n",
        "        pred_writer.writerow(['id', 'Category'])\n",
        "\n",
        "        for i, label in enumerate(y_pred):\n",
        "            pred_writer.writerow([i+1, classes[label]])\n",
        "    \n",
        "\n",
        "make_pred_csv(model)"
      ],
      "execution_count": 23,
      "outputs": []
    },
    {
      "cell_type": "markdown",
      "metadata": {
        "id": "hhnq39-RdEly"
      },
      "source": [
        "## Kaggle에 제출 방법\n",
        "\n",
        "---\n",
        "\n",
        "#### 1) CSV Download\n",
        "\n",
        "---\n",
        "\n",
        "\n",
        "- 위의 Make a CSV for submission 항목의 코드들을 실행\n",
        "- 왼쪽의 폴더 버튼을 클릭한 후 나오는 Files 패널에서 **cifar10_submit.csv** 확인\n",
        "- 보이지 않을 경우 Refresh 클릭\n",
        "- **cifar10_submit.csv** 오른쪽 클릭하여 다운로드\n",
        "\n",
        "\n",
        "---\n",
        "\n",
        "<img src=\"https://ycs-class.s3.ap-northeast-2.amazonaws.com/images/csv_download.png\" width=\"400\">\n",
        "\n",
        "\n",
        "#### 2) Kaggle에 제출\n",
        "\n",
        "---\n",
        "\n",
        "- Kaggle 제출링크로 이동: https://www.kaggle.com/competitions/ycs1003-cifar-10-competition-2022-1/\n",
        "\n",
        "<img src=\"https://esohn.be/images/kaggle1.png\" width=\"500\">\n",
        "\n",
        "- Kaggle 계정이 없는 경우 register \b있으면 login.\n",
        "\n",
        "<img src=\"https://esohn.be/images/kaggle2.png\" width=\"500\">\n",
        "\n",
        "- Team 탭을 클릭하여 먼저 이름을 분반 이름 학번으로 변경\n",
        "\n",
        "<img src=\"https://esohn.be/images/kaggle3.png\" width=\"500\">\n",
        "\n",
        "- 다운로드 했던 csv 파일을 제출\n",
        "\n",
        "<img src=\"https://esohn.be/images/kaggle4.png\" width=\"500\">\n",
        "\n",
        "---\n",
        "\n",
        "\n"
      ]
    },
    {
      "cell_type": "code",
      "metadata": {
        "id": "kYuBZK-pdX9b"
      },
      "source": [
        ""
      ],
      "execution_count": 23,
      "outputs": []
    }
  ]
}